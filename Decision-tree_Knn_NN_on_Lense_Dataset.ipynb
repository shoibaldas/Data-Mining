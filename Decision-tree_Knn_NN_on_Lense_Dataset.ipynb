{
  "nbformat": 4,
  "nbformat_minor": 0,
  "metadata": {
    "colab": {
      "provenance": []
    },
    "kernelspec": {
      "name": "python3",
      "display_name": "Python 3"
    },
    "language_info": {
      "name": "python"
    }
  },
  "cells": [
    {
      "cell_type": "code",
      "execution_count": 1,
      "metadata": {
        "id": "KolXkndua1h3"
      },
      "outputs": [],
      "source": [
        "import numpy as np\n",
        "import pandas as pd\n",
        "from sklearn.model_selection import train_test_split\n",
        "from sklearn.metrics import log_loss\n",
        "from sklearn.metrics import accuracy_score\n",
        "import os"
      ]
    },
    {
      "cell_type": "code",
      "source": [
        "lenses = pd.read_csv(\"/content/lenses.data\",sep='\\s+',header=None)\n",
        "lenses.rename(columns={0:'id',1:'age',2:'perscription',3:'astigmatic', 4:'tears',5:'lenses'}, inplace=True)\n",
        "lenses.head(5)"
      ],
      "metadata": {
        "colab": {
          "base_uri": "https://localhost:8080/",
          "height": 206
        },
        "id": "cuieINrJbvIt",
        "outputId": "d066c6e7-24d8-4163-cc6d-ef3cc676cf37"
      },
      "execution_count": 2,
      "outputs": [
        {
          "output_type": "execute_result",
          "data": {
            "text/plain": [
              "   id  age  perscription  astigmatic  tears  lenses\n",
              "0   1    1             1           1      1       3\n",
              "1   2    1             1           1      2       2\n",
              "2   3    1             1           2      1       3\n",
              "3   4    1             1           2      2       1\n",
              "4   5    1             2           1      1       3"
            ],
            "text/html": [
              "\n",
              "  <div id=\"df-54c0f5ad-4a72-41de-9d23-1b5da887aed5\">\n",
              "    <div class=\"colab-df-container\">\n",
              "      <div>\n",
              "<style scoped>\n",
              "    .dataframe tbody tr th:only-of-type {\n",
              "        vertical-align: middle;\n",
              "    }\n",
              "\n",
              "    .dataframe tbody tr th {\n",
              "        vertical-align: top;\n",
              "    }\n",
              "\n",
              "    .dataframe thead th {\n",
              "        text-align: right;\n",
              "    }\n",
              "</style>\n",
              "<table border=\"1\" class=\"dataframe\">\n",
              "  <thead>\n",
              "    <tr style=\"text-align: right;\">\n",
              "      <th></th>\n",
              "      <th>id</th>\n",
              "      <th>age</th>\n",
              "      <th>perscription</th>\n",
              "      <th>astigmatic</th>\n",
              "      <th>tears</th>\n",
              "      <th>lenses</th>\n",
              "    </tr>\n",
              "  </thead>\n",
              "  <tbody>\n",
              "    <tr>\n",
              "      <th>0</th>\n",
              "      <td>1</td>\n",
              "      <td>1</td>\n",
              "      <td>1</td>\n",
              "      <td>1</td>\n",
              "      <td>1</td>\n",
              "      <td>3</td>\n",
              "    </tr>\n",
              "    <tr>\n",
              "      <th>1</th>\n",
              "      <td>2</td>\n",
              "      <td>1</td>\n",
              "      <td>1</td>\n",
              "      <td>1</td>\n",
              "      <td>2</td>\n",
              "      <td>2</td>\n",
              "    </tr>\n",
              "    <tr>\n",
              "      <th>2</th>\n",
              "      <td>3</td>\n",
              "      <td>1</td>\n",
              "      <td>1</td>\n",
              "      <td>2</td>\n",
              "      <td>1</td>\n",
              "      <td>3</td>\n",
              "    </tr>\n",
              "    <tr>\n",
              "      <th>3</th>\n",
              "      <td>4</td>\n",
              "      <td>1</td>\n",
              "      <td>1</td>\n",
              "      <td>2</td>\n",
              "      <td>2</td>\n",
              "      <td>1</td>\n",
              "    </tr>\n",
              "    <tr>\n",
              "      <th>4</th>\n",
              "      <td>5</td>\n",
              "      <td>1</td>\n",
              "      <td>2</td>\n",
              "      <td>1</td>\n",
              "      <td>1</td>\n",
              "      <td>3</td>\n",
              "    </tr>\n",
              "  </tbody>\n",
              "</table>\n",
              "</div>\n",
              "      <button class=\"colab-df-convert\" onclick=\"convertToInteractive('df-54c0f5ad-4a72-41de-9d23-1b5da887aed5')\"\n",
              "              title=\"Convert this dataframe to an interactive table.\"\n",
              "              style=\"display:none;\">\n",
              "        \n",
              "  <svg xmlns=\"http://www.w3.org/2000/svg\" height=\"24px\"viewBox=\"0 0 24 24\"\n",
              "       width=\"24px\">\n",
              "    <path d=\"M0 0h24v24H0V0z\" fill=\"none\"/>\n",
              "    <path d=\"M18.56 5.44l.94 2.06.94-2.06 2.06-.94-2.06-.94-.94-2.06-.94 2.06-2.06.94zm-11 1L8.5 8.5l.94-2.06 2.06-.94-2.06-.94L8.5 2.5l-.94 2.06-2.06.94zm10 10l.94 2.06.94-2.06 2.06-.94-2.06-.94-.94-2.06-.94 2.06-2.06.94z\"/><path d=\"M17.41 7.96l-1.37-1.37c-.4-.4-.92-.59-1.43-.59-.52 0-1.04.2-1.43.59L10.3 9.45l-7.72 7.72c-.78.78-.78 2.05 0 2.83L4 21.41c.39.39.9.59 1.41.59.51 0 1.02-.2 1.41-.59l7.78-7.78 2.81-2.81c.8-.78.8-2.07 0-2.86zM5.41 20L4 18.59l7.72-7.72 1.47 1.35L5.41 20z\"/>\n",
              "  </svg>\n",
              "      </button>\n",
              "      \n",
              "  <style>\n",
              "    .colab-df-container {\n",
              "      display:flex;\n",
              "      flex-wrap:wrap;\n",
              "      gap: 12px;\n",
              "    }\n",
              "\n",
              "    .colab-df-convert {\n",
              "      background-color: #E8F0FE;\n",
              "      border: none;\n",
              "      border-radius: 50%;\n",
              "      cursor: pointer;\n",
              "      display: none;\n",
              "      fill: #1967D2;\n",
              "      height: 32px;\n",
              "      padding: 0 0 0 0;\n",
              "      width: 32px;\n",
              "    }\n",
              "\n",
              "    .colab-df-convert:hover {\n",
              "      background-color: #E2EBFA;\n",
              "      box-shadow: 0px 1px 2px rgba(60, 64, 67, 0.3), 0px 1px 3px 1px rgba(60, 64, 67, 0.15);\n",
              "      fill: #174EA6;\n",
              "    }\n",
              "\n",
              "    [theme=dark] .colab-df-convert {\n",
              "      background-color: #3B4455;\n",
              "      fill: #D2E3FC;\n",
              "    }\n",
              "\n",
              "    [theme=dark] .colab-df-convert:hover {\n",
              "      background-color: #434B5C;\n",
              "      box-shadow: 0px 1px 3px 1px rgba(0, 0, 0, 0.15);\n",
              "      filter: drop-shadow(0px 1px 2px rgba(0, 0, 0, 0.3));\n",
              "      fill: #FFFFFF;\n",
              "    }\n",
              "  </style>\n",
              "\n",
              "      <script>\n",
              "        const buttonEl =\n",
              "          document.querySelector('#df-54c0f5ad-4a72-41de-9d23-1b5da887aed5 button.colab-df-convert');\n",
              "        buttonEl.style.display =\n",
              "          google.colab.kernel.accessAllowed ? 'block' : 'none';\n",
              "\n",
              "        async function convertToInteractive(key) {\n",
              "          const element = document.querySelector('#df-54c0f5ad-4a72-41de-9d23-1b5da887aed5');\n",
              "          const dataTable =\n",
              "            await google.colab.kernel.invokeFunction('convertToInteractive',\n",
              "                                                     [key], {});\n",
              "          if (!dataTable) return;\n",
              "\n",
              "          const docLinkHtml = 'Like what you see? Visit the ' +\n",
              "            '<a target=\"_blank\" href=https://colab.research.google.com/notebooks/data_table.ipynb>data table notebook</a>'\n",
              "            + ' to learn more about interactive tables.';\n",
              "          element.innerHTML = '';\n",
              "          dataTable['output_type'] = 'display_data';\n",
              "          await google.colab.output.renderOutput(dataTable, element);\n",
              "          const docLink = document.createElement('div');\n",
              "          docLink.innerHTML = docLinkHtml;\n",
              "          element.appendChild(docLink);\n",
              "        }\n",
              "      </script>\n",
              "    </div>\n",
              "  </div>\n",
              "  "
            ]
          },
          "metadata": {},
          "execution_count": 2
        }
      ]
    },
    {
      "cell_type": "code",
      "source": [
        "lenses.corr()"
      ],
      "metadata": {
        "colab": {
          "base_uri": "https://localhost:8080/",
          "height": 238
        },
        "id": "5nChTUOZfuL-",
        "outputId": "41b349a8-3b0d-4d18-e878-63c93900a940"
      },
      "execution_count": 3,
      "outputs": [
        {
          "output_type": "execute_result",
          "data": {
            "text/plain": [
              "                    id           age  perscription    astigmatic  \\\n",
              "id            1.000000  9.436285e-01  2.889260e-01  1.444630e-01   \n",
              "age           0.943629  1.000000e+00 -7.931816e-17 -1.473052e-16   \n",
              "perscription  0.288926 -7.931816e-17  1.000000e+00 -7.401487e-17   \n",
              "astigmatic    0.144463 -1.473052e-16 -7.401487e-17  1.000000e+00   \n",
              "tears         0.072232  0.000000e+00  9.251859e-18  1.850372e-17   \n",
              "lenses        0.161804  2.007449e-01  1.639075e-01 -1.639075e-01   \n",
              "\n",
              "                     tears    lenses  \n",
              "id            7.223151e-02  0.161804  \n",
              "age           0.000000e+00  0.200745  \n",
              "perscription  9.251859e-18  0.163908  \n",
              "astigmatic    1.850372e-17 -0.163908  \n",
              "tears         1.000000e+00 -0.710266  \n",
              "lenses       -7.102659e-01  1.000000  "
            ],
            "text/html": [
              "\n",
              "  <div id=\"df-2b343e08-66d1-4751-93aa-0180178580d9\">\n",
              "    <div class=\"colab-df-container\">\n",
              "      <div>\n",
              "<style scoped>\n",
              "    .dataframe tbody tr th:only-of-type {\n",
              "        vertical-align: middle;\n",
              "    }\n",
              "\n",
              "    .dataframe tbody tr th {\n",
              "        vertical-align: top;\n",
              "    }\n",
              "\n",
              "    .dataframe thead th {\n",
              "        text-align: right;\n",
              "    }\n",
              "</style>\n",
              "<table border=\"1\" class=\"dataframe\">\n",
              "  <thead>\n",
              "    <tr style=\"text-align: right;\">\n",
              "      <th></th>\n",
              "      <th>id</th>\n",
              "      <th>age</th>\n",
              "      <th>perscription</th>\n",
              "      <th>astigmatic</th>\n",
              "      <th>tears</th>\n",
              "      <th>lenses</th>\n",
              "    </tr>\n",
              "  </thead>\n",
              "  <tbody>\n",
              "    <tr>\n",
              "      <th>id</th>\n",
              "      <td>1.000000</td>\n",
              "      <td>9.436285e-01</td>\n",
              "      <td>2.889260e-01</td>\n",
              "      <td>1.444630e-01</td>\n",
              "      <td>7.223151e-02</td>\n",
              "      <td>0.161804</td>\n",
              "    </tr>\n",
              "    <tr>\n",
              "      <th>age</th>\n",
              "      <td>0.943629</td>\n",
              "      <td>1.000000e+00</td>\n",
              "      <td>-7.931816e-17</td>\n",
              "      <td>-1.473052e-16</td>\n",
              "      <td>0.000000e+00</td>\n",
              "      <td>0.200745</td>\n",
              "    </tr>\n",
              "    <tr>\n",
              "      <th>perscription</th>\n",
              "      <td>0.288926</td>\n",
              "      <td>-7.931816e-17</td>\n",
              "      <td>1.000000e+00</td>\n",
              "      <td>-7.401487e-17</td>\n",
              "      <td>9.251859e-18</td>\n",
              "      <td>0.163908</td>\n",
              "    </tr>\n",
              "    <tr>\n",
              "      <th>astigmatic</th>\n",
              "      <td>0.144463</td>\n",
              "      <td>-1.473052e-16</td>\n",
              "      <td>-7.401487e-17</td>\n",
              "      <td>1.000000e+00</td>\n",
              "      <td>1.850372e-17</td>\n",
              "      <td>-0.163908</td>\n",
              "    </tr>\n",
              "    <tr>\n",
              "      <th>tears</th>\n",
              "      <td>0.072232</td>\n",
              "      <td>0.000000e+00</td>\n",
              "      <td>9.251859e-18</td>\n",
              "      <td>1.850372e-17</td>\n",
              "      <td>1.000000e+00</td>\n",
              "      <td>-0.710266</td>\n",
              "    </tr>\n",
              "    <tr>\n",
              "      <th>lenses</th>\n",
              "      <td>0.161804</td>\n",
              "      <td>2.007449e-01</td>\n",
              "      <td>1.639075e-01</td>\n",
              "      <td>-1.639075e-01</td>\n",
              "      <td>-7.102659e-01</td>\n",
              "      <td>1.000000</td>\n",
              "    </tr>\n",
              "  </tbody>\n",
              "</table>\n",
              "</div>\n",
              "      <button class=\"colab-df-convert\" onclick=\"convertToInteractive('df-2b343e08-66d1-4751-93aa-0180178580d9')\"\n",
              "              title=\"Convert this dataframe to an interactive table.\"\n",
              "              style=\"display:none;\">\n",
              "        \n",
              "  <svg xmlns=\"http://www.w3.org/2000/svg\" height=\"24px\"viewBox=\"0 0 24 24\"\n",
              "       width=\"24px\">\n",
              "    <path d=\"M0 0h24v24H0V0z\" fill=\"none\"/>\n",
              "    <path d=\"M18.56 5.44l.94 2.06.94-2.06 2.06-.94-2.06-.94-.94-2.06-.94 2.06-2.06.94zm-11 1L8.5 8.5l.94-2.06 2.06-.94-2.06-.94L8.5 2.5l-.94 2.06-2.06.94zm10 10l.94 2.06.94-2.06 2.06-.94-2.06-.94-.94-2.06-.94 2.06-2.06.94z\"/><path d=\"M17.41 7.96l-1.37-1.37c-.4-.4-.92-.59-1.43-.59-.52 0-1.04.2-1.43.59L10.3 9.45l-7.72 7.72c-.78.78-.78 2.05 0 2.83L4 21.41c.39.39.9.59 1.41.59.51 0 1.02-.2 1.41-.59l7.78-7.78 2.81-2.81c.8-.78.8-2.07 0-2.86zM5.41 20L4 18.59l7.72-7.72 1.47 1.35L5.41 20z\"/>\n",
              "  </svg>\n",
              "      </button>\n",
              "      \n",
              "  <style>\n",
              "    .colab-df-container {\n",
              "      display:flex;\n",
              "      flex-wrap:wrap;\n",
              "      gap: 12px;\n",
              "    }\n",
              "\n",
              "    .colab-df-convert {\n",
              "      background-color: #E8F0FE;\n",
              "      border: none;\n",
              "      border-radius: 50%;\n",
              "      cursor: pointer;\n",
              "      display: none;\n",
              "      fill: #1967D2;\n",
              "      height: 32px;\n",
              "      padding: 0 0 0 0;\n",
              "      width: 32px;\n",
              "    }\n",
              "\n",
              "    .colab-df-convert:hover {\n",
              "      background-color: #E2EBFA;\n",
              "      box-shadow: 0px 1px 2px rgba(60, 64, 67, 0.3), 0px 1px 3px 1px rgba(60, 64, 67, 0.15);\n",
              "      fill: #174EA6;\n",
              "    }\n",
              "\n",
              "    [theme=dark] .colab-df-convert {\n",
              "      background-color: #3B4455;\n",
              "      fill: #D2E3FC;\n",
              "    }\n",
              "\n",
              "    [theme=dark] .colab-df-convert:hover {\n",
              "      background-color: #434B5C;\n",
              "      box-shadow: 0px 1px 3px 1px rgba(0, 0, 0, 0.15);\n",
              "      filter: drop-shadow(0px 1px 2px rgba(0, 0, 0, 0.3));\n",
              "      fill: #FFFFFF;\n",
              "    }\n",
              "  </style>\n",
              "\n",
              "      <script>\n",
              "        const buttonEl =\n",
              "          document.querySelector('#df-2b343e08-66d1-4751-93aa-0180178580d9 button.colab-df-convert');\n",
              "        buttonEl.style.display =\n",
              "          google.colab.kernel.accessAllowed ? 'block' : 'none';\n",
              "\n",
              "        async function convertToInteractive(key) {\n",
              "          const element = document.querySelector('#df-2b343e08-66d1-4751-93aa-0180178580d9');\n",
              "          const dataTable =\n",
              "            await google.colab.kernel.invokeFunction('convertToInteractive',\n",
              "                                                     [key], {});\n",
              "          if (!dataTable) return;\n",
              "\n",
              "          const docLinkHtml = 'Like what you see? Visit the ' +\n",
              "            '<a target=\"_blank\" href=https://colab.research.google.com/notebooks/data_table.ipynb>data table notebook</a>'\n",
              "            + ' to learn more about interactive tables.';\n",
              "          element.innerHTML = '';\n",
              "          dataTable['output_type'] = 'display_data';\n",
              "          await google.colab.output.renderOutput(dataTable, element);\n",
              "          const docLink = document.createElement('div');\n",
              "          docLink.innerHTML = docLinkHtml;\n",
              "          element.appendChild(docLink);\n",
              "        }\n",
              "      </script>\n",
              "    </div>\n",
              "  </div>\n",
              "  "
            ]
          },
          "metadata": {},
          "execution_count": 3
        }
      ]
    },
    {
      "cell_type": "code",
      "source": [
        "import matplotlib.pyplot as plt\n",
        "import seaborn as sns\n",
        "hm = sns.heatmap(lenses.corr(),\n",
        "                 cbar=True,\n",
        "                 square=True, \n",
        "                 yticklabels=lenses.columns,\n",
        "                 xticklabels=lenses.columns)\n",
        "plt.show()"
      ],
      "metadata": {
        "id": "hBwMNOeggGTE",
        "colab": {
          "base_uri": "https://localhost:8080/",
          "height": 319
        },
        "outputId": "e535a6d3-1d0a-4973-87cd-ff3fb1eedfbe"
      },
      "execution_count": 31,
      "outputs": [
        {
          "output_type": "display_data",
          "data": {
            "text/plain": [
              "<Figure size 432x288 with 2 Axes>"
            ],
            "image/png": "[encoded data removed]"
          },
          "metadata": {
            "needs_background": "light"
          }
        }
      ]
    },
    {
      "cell_type": "code",
      "source": [
        "X = lenses.drop([\"lenses\",\"id\"], axis=1).values\n",
        "Y = lenses[\"lenses\"].values\n",
        "\n",
        "X_train, X_test, Y_train, Y_test = train_test_split(X, Y, test_size=0.3, random_state=1)\n",
        "X_train.shape"
      ],
      "metadata": {
        "colab": {
          "base_uri": "https://localhost:8080/"
        },
        "id": "l9vpYTNZgL79",
        "outputId": "db2c9c45-89b9-4076-8d7d-162c49e48b1a"
      },
      "execution_count": 4,
      "outputs": [
        {
          "output_type": "execute_result",
          "data": {
            "text/plain": [
              "(16, 4)"
            ]
          },
          "metadata": {},
          "execution_count": 4
        }
      ]
    },
    {
      "cell_type": "code",
      "source": [
        "from sklearn.tree import DecisionTreeClassifier\n",
        "\n",
        "tree = DecisionTreeClassifier(criterion=\"gini\") \n",
        "tree.fit(X_train, Y_train)\n",
        "\n",
        "y_pred_train = tree.predict(X_train)\n",
        "y_pred = tree.predict(X_test)\n",
        "\n",
        "df_accuracy_train_dt = accuracy_score(Y_train, y_pred_train)\n",
        "df_accuracy_test_dt = accuracy_score(Y_test, y_pred)\n",
        "\n",
        "print(\"Accuracy: Train=%.4f Test=%.4f\" % (df_accuracy_train_dt,df_accuracy_test_dt))"
      ],
      "metadata": {
        "colab": {
          "base_uri": "https://localhost:8080/"
        },
        "id": "91L_RaNtgWCl",
        "outputId": "293945cf-99dc-4bc0-deb1-d6e09e14fbcd"
      },
      "execution_count": 23,
      "outputs": [
        {
          "output_type": "stream",
          "name": "stdout",
          "text": [
            "Accuracy: Train=1.0000 Test=0.8750\n"
          ]
        }
      ]
    },
    {
      "cell_type": "code",
      "source": [
        "from sklearn.neighbors import KNeighborsClassifier\n",
        "\n",
        "knn = KNeighborsClassifier(n_neighbors=5)\n",
        "knn.fit(X_train, Y_train)\n",
        "\n",
        "y_pred_train = knn.predict(X_train)\n",
        "y_pred = knn.predict(X_test)\n",
        "\n",
        "accuracy_train_knn = accuracy_score(Y_train, y_pred_train)\n",
        "accuracy_test_knn = accuracy_score(Y_test, y_pred)\n",
        "\n",
        "print(\"Accuracy: Train=%.4f Test=%.4f\" % (accuracy_train_knn,accuracy_test_knn))"
      ],
      "metadata": {
        "colab": {
          "base_uri": "https://localhost:8080/"
        },
        "id": "s64p4K4HgdXJ",
        "outputId": "259e82cd-30b4-4ae8-c5c7-525adb00ccbf"
      },
      "execution_count": 24,
      "outputs": [
        {
          "output_type": "stream",
          "name": "stdout",
          "text": [
            "Accuracy: Train=0.6250 Test=0.7500\n"
          ]
        }
      ]
    },
    {
      "cell_type": "code",
      "source": [
        "num_classes = len(lenses[\"lenses\"].unique())\n",
        "num_classes"
      ],
      "metadata": {
        "colab": {
          "base_uri": "https://localhost:8080/"
        },
        "id": "jbBss9kgBlSB",
        "outputId": "f96b9c0b-4410-4d1f-ff85-1a85c65d65aa"
      },
      "execution_count": 11,
      "outputs": [
        {
          "output_type": "execute_result",
          "data": {
            "text/plain": [
              "3"
            ]
          },
          "metadata": {},
          "execution_count": 11
        }
      ]
    },
    {
      "cell_type": "code",
      "source": [
        "X = lenses.drop([\"lenses\",\"id\"], axis=1)\n",
        "Y = pd.get_dummies(lenses['lenses'])\n",
        "\n",
        "X_train, X_test, Y_train, Y_test = train_test_split(X, Y, test_size=0.2, random_state=1)"
      ],
      "metadata": {
        "id": "MKWHgzqfB-wd"
      },
      "execution_count": 25,
      "outputs": []
    },
    {
      "cell_type": "code",
      "source": [
        "from keras.models import Sequential\n",
        "from keras.layers import Dense\n",
        "\n",
        "model = Sequential()\n",
        "model.add(Dense(10, input_dim=X_train.shape[1], activation='relu'))\n",
        "model.add(Dense(num_classes, activation='softmax'))\n",
        "\n",
        "model.compile(loss='categorical_crossentropy', optimizer='adam', metrics=['accuracy'])\n",
        "\n",
        "history = model.fit(X_train, Y_train, epochs=10, batch_size=16, validation_data=(X_test, Y_test))\n",
        "\n",
        "accuracy = model.evaluate(X_test, Y_test)\n",
        "print('Accuracy: %.2f' % (accuracy[1]*100))"
      ],
      "metadata": {
        "colab": {
          "base_uri": "https://localhost:8080/"
        },
        "id": "UursSKBXhjPA",
        "outputId": "733af43b-7b6a-4550-8538-6fb1f2311871"
      },
      "execution_count": 26,
      "outputs": [
        {
          "output_type": "stream",
          "name": "stdout",
          "text": [
            "Epoch 1/10\n",
            "2/2 [==============================] - 1s 202ms/step - loss: 1.2626 - accuracy: 0.2105 - val_loss: 1.2210 - val_accuracy: 0.4000\n",
            "Epoch 2/10\n",
            "2/2 [==============================] - 0s 33ms/step - loss: 1.2490 - accuracy: 0.2632 - val_loss: 1.2075 - val_accuracy: 0.4000\n",
            "Epoch 3/10\n",
            "2/2 [==============================] - 0s 34ms/step - loss: 1.2359 - accuracy: 0.3158 - val_loss: 1.1948 - val_accuracy: 0.4000\n",
            "Epoch 4/10\n",
            "2/2 [==============================] - 0s 34ms/step - loss: 1.2227 - accuracy: 0.3158 - val_loss: 1.1822 - val_accuracy: 0.6000\n",
            "Epoch 5/10\n",
            "2/2 [==============================] - 0s 36ms/step - loss: 1.2116 - accuracy: 0.3158 - val_loss: 1.1693 - val_accuracy: 0.6000\n",
            "Epoch 6/10\n",
            "2/2 [==============================] - 0s 34ms/step - loss: 1.1995 - accuracy: 0.3158 - val_loss: 1.1567 - val_accuracy: 0.6000\n",
            "Epoch 7/10\n",
            "2/2 [==============================] - 0s 34ms/step - loss: 1.1890 - accuracy: 0.3158 - val_loss: 1.1443 - val_accuracy: 0.6000\n",
            "Epoch 8/10\n",
            "2/2 [==============================] - 0s 32ms/step - loss: 1.1778 - accuracy: 0.3158 - val_loss: 1.1322 - val_accuracy: 0.6000\n",
            "Epoch 9/10\n",
            "2/2 [==============================] - 0s 32ms/step - loss: 1.1678 - accuracy: 0.4211 - val_loss: 1.1203 - val_accuracy: 0.6000\n",
            "Epoch 10/10\n",
            "2/2 [==============================] - 0s 36ms/step - loss: 1.1589 - accuracy: 0.4211 - val_loss: 1.1089 - val_accuracy: 0.6000\n",
            "1/1 [==============================] - 0s 27ms/step - loss: 1.1089 - accuracy: 0.6000\n",
            "Accuracy: 60.00\n"
          ]
        }
      ]
    },
    {
      "cell_type": "code",
      "source": [
        "import matplotlib.pyplot as plt\n",
        "\n",
        "train_acc = history.history['accuracy']\n",
        "\n",
        "test_acc = history.history['val_accuracy']\n",
        "epochs = range(1, len(train_acc) + 1)\n",
        "\n",
        "# Plot the training and testing accuracy across epochs\n",
        "plt.plot(epochs, train_acc, 'bo', label='Training accuracy')\n",
        "plt.plot(epochs, test_acc, 'r', label='Testing accuracy')\n",
        "plt.title('Training and Testing Accuracy')\n",
        "plt.xlabel('Epochs')\n",
        "plt.ylabel('Accuracy')\n",
        "plt.legend()\n",
        "plt.show()\n"
      ],
      "metadata": {
        "colab": {
          "base_uri": "https://localhost:8080/",
          "height": 295
        },
        "id": "Qg8OzCy1Dl5y",
        "outputId": "a8b4dd3e-69b6-4521-ab51-22c71f6af951"
      },
      "execution_count": 34,
      "outputs": [
        {
          "output_type": "display_data",
          "data": {
            "text/plain": [
              "<Figure size 432x288 with 1 Axes>"
            ],
            "image/png": "[encoded data removed]"
          },
          "metadata": {
            "needs_background": "light"
          }
        }
      ]
    },
    {
      "cell_type": "code",
      "source": [
        "import matplotlib.pyplot as plt\n",
        "\n",
        "\n",
        "df_nn_acc_train = history.history['accuracy'][-1]\n",
        "df_nn_acc_test = accuracy[1]\n",
        "\n",
        "models = ['Decision Tree', 'K-NN', 'Neural Network']\n",
        "accuracy_test = [df_accuracy_test_dt, accuracy_test_knn, df_nn_acc_test]\n",
        "\n",
        "colors = ['green', 'blue', 'red']\n",
        "\n",
        "plt.bar(models, accuracy_test, color=colors, alpha=0.5)\n",
        "plt.legend([ 'Test Accuracy'])\n",
        "plt.title('Accuracy Comparison')\n",
        "plt.show()\n"
      ],
      "metadata": {
        "colab": {
          "base_uri": "https://localhost:8080/",
          "height": 281
        },
        "id": "x8FyG7fjA5cx",
        "outputId": "6cf0af07-3640-4dec-beb8-d583963d459a"
      },
      "execution_count": 30,
      "outputs": [
        {
          "output_type": "display_data",
          "data": {
            "text/plain": [
              "<Figure size 432x288 with 1 Axes>"
            ],
            "image/png": "[encoded data removed]"
          },
          "metadata": {
            "needs_background": "light"
          }
        }
      ]
    }
  ]
}